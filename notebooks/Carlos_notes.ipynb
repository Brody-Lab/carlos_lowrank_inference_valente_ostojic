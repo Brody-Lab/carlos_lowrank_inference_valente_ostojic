{
 "cells": [
  {
   "attachments": {},
   "cell_type": "markdown",
   "metadata": {},
   "source": [
    "===  added by Carlos Brody Dec 2022\n",
    "\n",
    "To get `2_many_fits.ipynb` to run from a fresh python3 install, also install pip and then run\n",
    "> python3 -m pip install [this_module]\n",
    "where [this_module] is each of\n",
    "\n",
    "* numpy\n",
    "* matplotlib\n",
    "* seaborn\n",
    "* torch\n",
    "* scikit-learn\n",
    "* sklearn  (not sure whether we need this after scikit-learn)\n",
    "* statsmodels\n",
    "\n",
    "Also make the directory lowrank_inference/figures/neurips\n",
    "\n"
   ]
  },
  {
   "attachments": {},
   "cell_type": "markdown",
   "metadata": {},
   "source": [
    "== Running training scripts ==\n",
    "\n",
    "`many_fit_mante.py` is the script that generates the data that `2_many_fits.ipynb` then uses to generate figures. If you want to run it, the `many_fit_mante.py` will need the `../models/mante_many/` directory to exist; check to make sure it is there. \n",
    "\n",
    "That `many_fit_mante.py` script in turn uses `../low_rank_rnns/mante.py`, from which a key file to understand the structure of the data is \n",
    "\n",
    "    mante_generate_data()\n",
    "\n",
    "mante.generate_mante_data(1000) generates torch tensors for 800 training trials and 200 validation trials.    \n",
    "\n",
    "The first two outputs will be: \n",
    "\n",
    "* x_train, an nTrials-by-nTimebins-by-nInputs tensor, where\n",
    "    \n",
    "    * nTrials=800\n",
    "    * nTimebins=68, each bin represents 20 ms\n",
    "    * nInputs=4, first is motion/color (a random value per timebin), second is color/motion (a random value per timepoint), third and 4th are [0, 0.10] for one context, [0.10, 0] for the other context\n",
    "\n",
    ".\n",
    "\n",
    "\n",
    "* y_train, an nTrials-by-nTimebins-by-1 tensor, where\n",
    "\n",
    "    * nTrials=800\n",
    "    * nTimebins=68, each bin represents 20 ms\n",
    "    * each entry will be zero until the last timebin, which will be +1.0 for one choice, -1.0 for the other\n",
    "\n",
    "The third output is\n",
    "\n",
    "* mask_train is...  ??? I don't know what this is for\n",
    "\n",
    "        \n",
    "Code inserted by Carlos into `many_fit_mante.py` saves the inputs and targets of trained networks, as well as the neural trajectories themselves. The neural trajectories come in an array whose dimensions are\n",
    " \n",
    "* nTrials\n",
    "* nTimebins\n",
    "* nUnits  \n",
    "\n",
    "The number of trials will be 200, since it is the validation trials that are used to compute the R^2 between fullRank neural trajectories and lowRank neural trajectories."
   ]
  },
  {
   "cell_type": "markdown",
   "metadata": {},
   "source": []
  },
  {
   "cell_type": "markdown",
   "metadata": {},
   "source": []
  },
  {
   "cell_type": "markdown",
   "metadata": {},
   "source": []
  }
 ],
 "metadata": {
  "kernelspec": {
   "display_name": "Python 3",
   "language": "python",
   "name": "python3"
  },
  "language_info": {
   "codemirror_mode": {
    "name": "ipython",
    "version": 3
   },
   "file_extension": ".py",
   "mimetype": "text/x-python",
   "name": "python",
   "nbconvert_exporter": "python",
   "pygments_lexer": "ipython3",
   "version": "3.10.9 (main, Dec 15 2022, 18:20:40) [Clang 13.0.0 (clang-1300.0.29.30)]"
  },
  "vscode": {
   "interpreter": {
    "hash": "aee8b7b246df8f9039afb4144a1f6fd8d2ca17a180786b69acc140d282b71a49"
   }
  }
 },
 "nbformat": 4,
 "nbformat_minor": 4
}
